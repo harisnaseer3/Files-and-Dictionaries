{
 "cells": [
  {
   "cell_type": "markdown",
   "metadata": {},
   "source": [
    "# Diff b\\w list and dictionary"
   ]
  },
  {
   "cell_type": "markdown",
   "metadata": {},
   "source": [
    "List: a linear/order collection of values that stay in order, actually this is not a collection e.g"
   ]
  },
  {
   "cell_type": "code",
   "execution_count": 1,
   "metadata": {},
   "outputs": [
    {
     "name": "stdout",
     "output_type": "stream",
     "text": [
      "4\n"
     ]
    }
   ],
   "source": [
    "x = 3\n",
    "x = 4\n",
    "print(x)"
   ]
  },
  {
   "cell_type": "raw",
   "metadata": {},
   "source": [
    "as we saw that \"x\" is overwritten, now \"x\" has new value and old value has escaped"
   ]
  },
  {
   "cell_type": "markdown",
   "metadata": {},
   "source": [
    "Dictionary: A \"bag\" of values, each with its own label. its just like social array. it is just like key that every lock has its own key. we assign a label or index to every variable."
   ]
  },
  {
   "cell_type": "code",
   "execution_count": 2,
   "metadata": {},
   "outputs": [
    {
     "name": "stdout",
     "output_type": "stream",
     "text": [
      "{'money': 3424, 'toffie': 4, 'tissue': 25}\n"
     ]
    }
   ],
   "source": [
    "purse = dict()\n",
    "purse['money'] = 3424\n",
    "purse['toffie'] = 4\n",
    "purse['tissue'] = 25\n",
    "print(purse)"
   ]
  },
  {
   "cell_type": "code",
   "execution_count": 3,
   "metadata": {},
   "outputs": [
    {
     "name": "stdout",
     "output_type": "stream",
     "text": [
      "4\n",
      "30\n"
     ]
    }
   ],
   "source": [
    "print(purse['toffie'])\n",
    "print(purse['tissue'] + 5)"
   ]
  },
  {
   "cell_type": "code",
   "execution_count": 4,
   "metadata": {},
   "outputs": [
    {
     "name": "stdout",
     "output_type": "stream",
     "text": [
      "{'money': 8424, 'toffie': 4, 'tissue': 25}\n"
     ]
    }
   ],
   "source": [
    "purse['money'] = purse['money'] + 5000\n",
    "print(purse)"
   ]
  },
  {
   "cell_type": "raw",
   "metadata": {},
   "source": [
    "list has index\\position and dict has label everywhere: e.g"
   ]
  },
  {
   "cell_type": "code",
   "execution_count": 5,
   "metadata": {},
   "outputs": [
    {
     "name": "stdout",
     "output_type": "stream",
     "text": [
      "[67, 50]\n"
     ]
    },
    {
     "data": {
      "text/plain": [
       "67"
      ]
     },
     "execution_count": 5,
     "metadata": {},
     "output_type": "execute_result"
    }
   ],
   "source": [
    "lst = list()\n",
    "lst.append(67)\n",
    "lst.append(50)\n",
    "print(lst)\n",
    "lst[0]"
   ]
  },
  {
   "cell_type": "code",
   "execution_count": 6,
   "metadata": {},
   "outputs": [
    {
     "name": "stdout",
     "output_type": "stream",
     "text": [
      "{'age': 24, 'hight': 0.1}\n"
     ]
    }
   ],
   "source": [
    "hs = dict()\n",
    "hs['age'] = 24\n",
    "hs['hight'] = 6.1\n",
    "hs['hight'] = 0.1\n",
    "print(hs)"
   ]
  },
  {
   "cell_type": "code",
   "execution_count": 7,
   "metadata": {},
   "outputs": [
    {
     "name": "stdout",
     "output_type": "stream",
     "text": [
      "{}\n"
     ]
    }
   ],
   "source": [
    "hmp = {}\n",
    "print(hmp)"
   ]
  },
  {
   "cell_type": "markdown",
   "metadata": {},
   "source": [
    "# Counting with Dictionaries"
   ]
  },
  {
   "cell_type": "markdown",
   "metadata": {},
   "source": [
    "e.g we have a lot of data and we want to see specific or most common word"
   ]
  },
  {
   "cell_type": "code",
   "execution_count": 8,
   "metadata": {},
   "outputs": [
    {
     "name": "stdout",
     "output_type": "stream",
     "text": [
      "{'mani': 2, 'jawad': 3, 'haris': 2, 'saqib': 1, 'abdul': 1, 'zeshan': 1}\n"
     ]
    }
   ],
   "source": [
    "counts = dict()\n",
    "names = ['mani','jawad','haris','saqib','abdul','zeshan','haris',\n",
    "        'jawad','jawad','mani']\n",
    "for name in names:\n",
    "\n",
    "    if name not in counts:\n",
    "        counts[name] = 1\n",
    "    else:\n",
    "        counts[name] = counts[name]+1\n",
    "print(counts)\n"
   ]
  },
  {
   "cell_type": "code",
   "execution_count": 9,
   "metadata": {},
   "outputs": [
    {
     "name": "stdout",
     "output_type": "stream",
     "text": [
      "0\n",
      "0\n",
      "0\n",
      "0\n",
      "0\n",
      "0\n",
      "0\n",
      "0\n",
      "0\n",
      "0\n"
     ]
    }
   ],
   "source": [
    "counts = dict()\n",
    "names = ['mani','jawad','haris','saqib','abdul','zeshan','haris',\n",
    "        'jawad','jawad','mani']\n",
    "for name in names: \n",
    "    if name in counts:\n",
    "        x = counts[name]\n",
    "    else:\n",
    "        x = 0\n",
    "    x = counts.get(name,0)\n",
    "    print(x)"
   ]
  },
  {
   "cell_type": "markdown",
   "metadata": {},
   "source": [
    "another method, four lines of \"if and else\" merged in just one line"
   ]
  },
  {
   "cell_type": "code",
   "execution_count": 10,
   "metadata": {},
   "outputs": [
    {
     "name": "stdout",
     "output_type": "stream",
     "text": [
      "{'mani': 2, 'jawad': 3, 'haris': 2, 'saqib': 1, 'abdul': 1, 'zeshan': 1}\n"
     ]
    }
   ],
   "source": [
    "count = dict()\n",
    "names = ['mani','jawad','haris','saqib','abdul','zeshan','haris',\n",
    "        'jawad','jawad','mani']\n",
    "for name in names: \n",
    "    count[name] = count.get(name, 0) + 1\n",
    "print(count)\n"
   ]
  },
  {
   "cell_type": "markdown",
   "metadata": {},
   "source": [
    "# Dictionaries and Files"
   ]
  },
  {
   "cell_type": "code",
   "execution_count": 12,
   "metadata": {},
   "outputs": [
    {
     "name": "stdout",
     "output_type": "stream",
     "text": [
      "enter the line of text:\n",
      "i am haris naseer satti. i am haris my father is naseer satti\n",
      "words ['i', 'am', 'haris', 'naseer', 'satti.', 'i', 'am', 'haris', 'my', 'father', 'is', 'naseer', 'satti']\n",
      "counting...\n",
      "count {'i': 2, 'am': 2, 'haris': 2, 'naseer': 2, 'satti.': 1, 'my': 1, 'father': 1, 'is': 1, 'satti': 1}\n"
     ]
    }
   ],
   "source": [
    "counts = dict()\n",
    "print('enter the line of text:')\n",
    "line = input('')\n",
    "words = line.split()\n",
    "\n",
    "print('words', words)\n",
    "print('counting...')\n",
    "\n",
    "for word in words:\n",
    "    counts[word] = counts.get(word,0) + 1\n",
    "print('count', counts)"
   ]
  },
  {
   "cell_type": "raw",
   "metadata": {},
   "source": [
    "one thing to remember, order is unpredictable for dictionry"
   ]
  },
  {
   "cell_type": "code",
   "execution_count": 19,
   "metadata": {},
   "outputs": [
    {
     "ename": "SyntaxError",
     "evalue": "invalid syntax (<ipython-input-19-0836703ba671>, line 1)",
     "output_type": "error",
     "traceback": [
      "\u001b[1;36m  File \u001b[1;32m\"<ipython-input-19-0836703ba671>\"\u001b[1;36m, line \u001b[1;32m1\u001b[0m\n\u001b[1;33m    hm = ('haris':  3, 'mani':  5, 'jani':  1)\u001b[0m\n\u001b[1;37m                 ^\u001b[0m\n\u001b[1;31mSyntaxError\u001b[0m\u001b[1;31m:\u001b[0m invalid syntax\n"
     ]
    }
   ],
   "source": [
    "hm = ('haris':  3, 'mani':  5, 'jani':  1)\n",
    "for key in hs:\n",
    "    print(key,hs[key])"
   ]
  },
  {
   "cell_type": "markdown",
   "metadata": {},
   "source": [
    "petrieving the list of keys and values"
   ]
  },
  {
   "cell_type": "code",
   "execution_count": 20,
   "metadata": {},
   "outputs": [
    {
     "ename": "SyntaxError",
     "evalue": "invalid syntax (<ipython-input-20-2fb1effe3ebd>, line 1)",
     "output_type": "error",
     "traceback": [
      "\u001b[1;36m  File \u001b[1;32m\"<ipython-input-20-2fb1effe3ebd>\"\u001b[1;36m, line \u001b[1;32m1\u001b[0m\n\u001b[1;33m    hm = ('haris':  3, 'mani':  5, 'jani':  1)\u001b[0m\n\u001b[1;37m                 ^\u001b[0m\n\u001b[1;31mSyntaxError\u001b[0m\u001b[1;31m:\u001b[0m invalid syntax\n"
     ]
    }
   ],
   "source": [
    "hm = ('haris':  3, 'mani':  5, 'jani':  1)\n",
    "print(list(hm))\n",
    "print(hm.keys())\n",
    "print(hm.values())\n",
    "print(hm.items())"
   ]
  },
  {
   "cell_type": "markdown",
   "metadata": {},
   "source": [
    "two iteration variable"
   ]
  },
  {
   "cell_type": "code",
   "execution_count": 23,
   "metadata": {},
   "outputs": [
    {
     "ename": "SyntaxError",
     "evalue": "invalid syntax (<ipython-input-23-edad0269f8ad>, line 1)",
     "output_type": "error",
     "traceback": [
      "\u001b[1;36m  File \u001b[1;32m\"<ipython-input-23-edad0269f8ad>\"\u001b[1;36m, line \u001b[1;32m1\u001b[0m\n\u001b[1;33m    hm = ('haris':  3, 'mani':  5, 'jani':  1)\u001b[0m\n\u001b[1;37m                 ^\u001b[0m\n\u001b[1;31mSyntaxError\u001b[0m\u001b[1;31m:\u001b[0m invalid syntax\n"
     ]
    }
   ],
   "source": [
    "hm = ('haris':  3, 'mani':  5, 'jani':  1)\n",
    "for aa,bb in hm.items():\n",
    "    print(aa,bb)"
   ]
  },
  {
   "cell_type": "code",
   "execution_count": 32,
   "metadata": {},
   "outputs": [
    {
     "name": "stdout",
     "output_type": "stream",
     "text": [
      "enter filefile.txt\n",
      "big word is: is and big count is: 4\n"
     ]
    }
   ],
   "source": [
    "name = input('enter file')\n",
    "handle = open(name)\n",
    "\n",
    "counts = dict()\n",
    "for line in handle:\n",
    "    words = line.split()\n",
    "    for word in words:\n",
    "        counts[word] = counts.get(word,0) + 1\n",
    "        \n",
    "        \n",
    "bigcount = None\n",
    "bogword = None\n",
    "for word,count in counts.items():\n",
    "    if bigcount is None or count > bigcount:\n",
    "        bigword = word\n",
    "        bigcount = count\n",
    "print('big word is:', bigword, 'and big count is:', bigcount)"
   ]
  },
  {
   "cell_type": "code",
   "execution_count": 33,
   "metadata": {},
   "outputs": [
    {
     "name": "stdout",
     "output_type": "stream",
     "text": [
      "-1\n"
     ]
    }
   ],
   "source": [
    "stuff = dict()\n",
    "print(stuff.get('candy',-1))"
   ]
  },
  {
   "cell_type": "markdown",
   "metadata": {},
   "source": [
    "# Assignment"
   ]
  },
  {
   "cell_type": "code",
   "execution_count": 3,
   "metadata": {},
   "outputs": [
    {
     "name": "stdout",
     "output_type": "stream",
     "text": [
      "Enter file:file.txt\n",
      "None None\n"
     ]
    }
   ],
   "source": [
    "fname = input(\"Enter file:\")\n",
    "if len(fname) < 1 : name = \"file.txt\"\n",
    "hand = open(fname)\n",
    "\n",
    "lst = list()\n",
    "\n",
    "for line in hand:\n",
    "    if not line.startswith(\"From:\"): continue\n",
    "    line = line.split()\n",
    "    lst.append(line[1])\n",
    "\n",
    "counts = dict()\n",
    "for word in lst:\n",
    "    counts[word] = counts.get(word,0) + 1\n",
    "\n",
    "bigcount = None\n",
    "bigword = None\n",
    "for word,count in counts.items(): \n",
    "    if bigcount < count:\n",
    "        bigcount = count\n",
    "        bigword = word\n",
    "\n",
    "print (bigword,bigcount)"
   ]
  },
  {
   "cell_type": "code",
   "execution_count": null,
   "metadata": {},
   "outputs": [],
   "source": []
  },
  {
   "cell_type": "code",
   "execution_count": null,
   "metadata": {},
   "outputs": [],
   "source": []
  }
 ],
 "metadata": {
  "kernelspec": {
   "display_name": "Python 3",
   "language": "python",
   "name": "python3"
  },
  "language_info": {
   "codemirror_mode": {
    "name": "ipython",
    "version": 3
   },
   "file_extension": ".py",
   "mimetype": "text/x-python",
   "name": "python",
   "nbconvert_exporter": "python",
   "pygments_lexer": "ipython3",
   "version": "3.7.6"
  }
 },
 "nbformat": 4,
 "nbformat_minor": 4
}
