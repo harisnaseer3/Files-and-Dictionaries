{
 "cells": [
  {
   "cell_type": "markdown",
   "metadata": {},
   "source": [
    "# Files"
   ]
  },
  {
   "cell_type": "markdown",
   "metadata": {},
   "source": [
    "sequence of lines is called file. it can be program or any text that containing text."
   ]
  },
  {
   "cell_type": "raw",
   "metadata": {},
   "source": [
    "open function is used to open the file. open()"
   ]
  },
  {
   "cell_type": "code",
   "execution_count": 14,
   "metadata": {},
   "outputs": [
    {
     "name": "stdout",
     "output_type": "stream",
     "text": [
      "<_io.TextIOWrapper name='file.txt' mode='r' encoding='cp1252'>\n"
     ]
    }
   ],
   "source": [
    "fhand = open('file.txt')\n",
    "print(fhand)"
   ]
  },
  {
   "cell_type": "markdown",
   "metadata": {},
   "source": [
    "\\n is used for new line, \\n still one charecter not two"
   ]
  },
  {
   "cell_type": "code",
   "execution_count": 15,
   "metadata": {},
   "outputs": [
    {
     "name": "stdout",
     "output_type": "stream",
     "text": [
      "i am\n",
      "haris\n"
     ]
    },
    {
     "data": {
      "text/plain": [
       "10"
      ]
     },
     "execution_count": 15,
     "metadata": {},
     "output_type": "execute_result"
    }
   ],
   "source": [
    "hs = 'i am\\nharis'\n",
    "print(hs)\n",
    "len(hs)"
   ]
  },
  {
   "cell_type": "markdown",
   "metadata": {},
   "source": [
    "files handle as a sequence"
   ]
  },
  {
   "cell_type": "code",
   "execution_count": 11,
   "metadata": {},
   "outputs": [
    {
     "name": "stdout",
     "output_type": "stream",
     "text": [
      "i am haris\n",
      "\n",
      "my father name is\n",
      "\n",
      "m naseer satti \n",
      "\n",
      "i am a student\n",
      "\n",
      "i am also a sport man.\n"
     ]
    }
   ],
   "source": [
    "xfile = open('file.txt')\n",
    "for name in xfile:\n",
    "    print(name)"
   ]
  },
  {
   "cell_type": "raw",
   "metadata": {},
   "source": [
    "counting lines  in a file"
   ]
  },
  {
   "cell_type": "code",
   "execution_count": 18,
   "metadata": {},
   "outputs": [
    {
     "name": "stdout",
     "output_type": "stream",
     "text": [
      "total lines: 5\n"
     ]
    }
   ],
   "source": [
    "xfile = open('file.txt')\n",
    "count = 0\n",
    "for lines in xfile:\n",
    "    count = count+1\n",
    "print('total lines:',count)"
   ]
  },
  {
   "cell_type": "code",
   "execution_count": 19,
   "metadata": {},
   "outputs": [
    {
     "name": "stdout",
     "output_type": "stream",
     "text": [
      "total lines: 1\n",
      "total lines: 2\n",
      "total lines: 3\n",
      "total lines: 4\n",
      "total lines: 5\n"
     ]
    }
   ],
   "source": [
    "xfile = open('file.txt')\n",
    "count = 0\n",
    "for lines in xfile:\n",
    "    count = count+1\n",
    "    print('total lines:',count)"
   ]
  },
  {
   "cell_type": "raw",
   "metadata": {},
   "source": [
    "if we want to read as a whole not in new line, just read as single string: and also show the chr from start to 30. only read function is used to read the file"
   ]
  },
  {
   "cell_type": "code",
   "execution_count": 24,
   "metadata": {},
   "outputs": [
    {
     "name": "stdout",
     "output_type": "stream",
     "text": [
      "82\n"
     ]
    }
   ],
   "source": [
    "fhand = open('file.txt')\n",
    "hs = fhand.read()\n",
    "print(len(hs))"
   ]
  },
  {
   "cell_type": "code",
   "execution_count": 25,
   "metadata": {},
   "outputs": [
    {
     "name": "stdout",
     "output_type": "stream",
     "text": [
      "i am haris\n",
      "my father name is\n",
      "m\n"
     ]
    }
   ],
   "source": [
    "print(hs[:30])"
   ]
  },
  {
   "cell_type": "raw",
   "metadata": {},
   "source": [
    "searching through files, if we want to search the files start with 'm'. startswith function is used."
   ]
  },
  {
   "cell_type": "code",
   "execution_count": 30,
   "metadata": {},
   "outputs": [
    {
     "name": "stdout",
     "output_type": "stream",
     "text": [
      "my father name is\n",
      "\n",
      "m naseer satti \n",
      "\n"
     ]
    }
   ],
   "source": [
    "fhand = open('file.txt')\n",
    "for line in fhand:\n",
    "    if line.startswith('m'):\n",
    "        print(line)"
   ]
  },
  {
   "cell_type": "raw",
   "metadata": {},
   "source": [
    "one thing to remember print function always contains \\n new lines output is coming after one line, so use rstrip function to remove the whitespaces"
   ]
  },
  {
   "cell_type": "code",
   "execution_count": 31,
   "metadata": {},
   "outputs": [
    {
     "name": "stdout",
     "output_type": "stream",
     "text": [
      "my father name is\n",
      "m naseer satti\n"
     ]
    }
   ],
   "source": [
    "fhand = open('file.txt')\n",
    "for line in fhand:\n",
    "    line = line.rstrip()\n",
    "    if line.startswith('m'):\n",
    "        print(line)"
   ]
  },
  {
   "cell_type": "raw",
   "metadata": {},
   "source": [
    "the following code is same as previous. continue statment is used to skip the line."
   ]
  },
  {
   "cell_type": "code",
   "execution_count": 34,
   "metadata": {},
   "outputs": [
    {
     "name": "stdout",
     "output_type": "stream",
     "text": [
      "my father name is\n",
      "m naseer satti\n"
     ]
    }
   ],
   "source": [
    "fhand = open('file.txt')\n",
    "for line in fhand:\n",
    "    line = line.rstrip()\n",
    "    if not line.startswith('m'):\n",
    "        continue\n",
    "    print(line)"
   ]
  },
  {
   "cell_type": "code",
   "execution_count": 37,
   "metadata": {},
   "outputs": [
    {
     "name": "stdout",
     "output_type": "stream",
     "text": [
      "my father name is\n"
     ]
    }
   ],
   "source": [
    "fhand = open('file.txt')\n",
    "for line in fhand:\n",
    "    line = line.rstrip()\n",
    "    if not 'my' in line:\n",
    "        continue\n",
    "    print(line)"
   ]
  },
  {
   "cell_type": "raw",
   "metadata": {},
   "source": [
    "rename the file"
   ]
  },
  {
   "cell_type": "code",
   "execution_count": null,
   "metadata": {},
   "outputs": [],
   "source": [
    "fhand = open('file.txt')\n",
    "fname = input('enter file name: ')\n",
    "print(fname)"
   ]
  },
  {
   "cell_type": "code",
   "execution_count": 41,
   "metadata": {},
   "outputs": [
    {
     "ename": "FileNotFoundError",
     "evalue": "[Errno 2] No such file or directory: 'file'",
     "output_type": "error",
     "traceback": [
      "\u001b[1;31m---------------------------------------------------------------------------\u001b[0m",
      "\u001b[1;31mFileNotFoundError\u001b[0m                         Traceback (most recent call last)",
      "\u001b[1;32m<ipython-input-41-14acaabfba97>\u001b[0m in \u001b[0;36m<module>\u001b[1;34m\u001b[0m\n\u001b[1;32m----> 1\u001b[1;33m \u001b[0mfhand\u001b[0m \u001b[1;33m=\u001b[0m \u001b[0mopen\u001b[0m\u001b[1;33m(\u001b[0m\u001b[0mfname\u001b[0m\u001b[1;33m)\u001b[0m\u001b[1;33m\u001b[0m\u001b[1;33m\u001b[0m\u001b[0m\n\u001b[0m",
      "\u001b[1;31mFileNotFoundError\u001b[0m: [Errno 2] No such file or directory: 'file'"
     ]
    }
   ],
   "source": [
    "fhand = open(fname)"
   ]
  },
  {
   "cell_type": "code",
   "execution_count": null,
   "metadata": {},
   "outputs": [],
   "source": []
  }
 ],
 "metadata": {
  "kernelspec": {
   "display_name": "Python 3",
   "language": "python",
   "name": "python3"
  },
  "language_info": {
   "codemirror_mode": {
    "name": "ipython",
    "version": 3
   },
   "file_extension": ".py",
   "mimetype": "text/x-python",
   "name": "python",
   "nbconvert_exporter": "python",
   "pygments_lexer": "ipython3",
   "version": "3.7.6"
  }
 },
 "nbformat": 4,
 "nbformat_minor": 4
}
